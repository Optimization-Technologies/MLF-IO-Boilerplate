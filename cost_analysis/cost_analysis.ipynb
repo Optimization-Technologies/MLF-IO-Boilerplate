{
 "cells": [
  {
   "cell_type": "markdown",
   "metadata": {},
   "source": [
    "# IO Cost Analysis"
   ]
  },
  {
   "cell_type": "code",
   "execution_count": 6,
   "metadata": {},
   "outputs": [
    {
     "data": {
      "text/plain": [
       "True"
      ]
     },
     "execution_count": 6,
     "metadata": {},
     "output_type": "execute_result"
    }
   ],
   "source": [
    "import os\n",
    "import sys\n",
    "from dotenv import find_dotenv, load_dotenv\n",
    "\n",
    "cwd = os.getcwd()\n",
    "parent_dir = os.path.dirname(cwd)\n",
    "sys.path.insert(0, parent_dir)\n",
    "\n",
    "load_dotenv(find_dotenv())"
   ]
  },
  {
   "cell_type": "code",
   "execution_count": 3,
   "metadata": {},
   "outputs": [
    {
     "name": "stdout",
     "output_type": "stream",
     "text": [
      "\n",
      "Dataset ID: 6m-30txns-Wf-3h\n",
      "Tenant ID: io-cost-analysis\n",
      "# months: 6\n",
      "# txns per month: 30\n",
      "frequency: W\n",
      "# samples: 24\n",
      "horizon: 3\n",
      "\n",
      "Generating dataset 6m-30txns-Wf-3h...\n",
      "Getting presigned url...\n",
      "Uploading data...\n",
      "Polling job status...\n",
      "\tResponse status: inProgress\n",
      "\tResponse status: inProgress\n",
      "\tResponse status: inProgress\n",
      "\tResponse status: inProgress\n",
      "\tResponse status: inProgress\n",
      "\tResponse status: inProgress\n",
      "\tResponse status: inProgress\n",
      "\tResponse status: inProgress\n",
      "\tResponse status: inProgress\n",
      "Job complete! Message: The data upload job finished successfully\n",
      "\n"
     ]
    }
   ],
   "source": [
    "from datetime import datetime\n",
    "\n",
    "from generate_cost_analysis_instances import get_upload_data_payload\n",
    "\n",
    "import api\n",
    "\n",
    "# Set the tenant ID\n",
    "TENANT_ID = f\"{os.getenv(\"TENANT_ID\")}-{datetime.now().strftime('%Y%m%d%H%M%S')}\"\n",
    "\n",
    "# Generate data to upload and store dataset IDs\n",
    "upload_data_payload = get_upload_data_payload()\n",
    "dataset_ids = [dataset.datasetId for dataset in upload_data_payload.datasets]\n",
    "\n",
    "def upload_train_predict(dataset_ids: list[str]):\n",
    "    api.upload_data_v2(tenant_id=TENANT_ID, payload=upload_data_payload)\n",
    "    api.start_trainer(TENANT_ID, dataset_ids)\n",
    "    api.create_prediction(TENANT_ID, dataset_ids)\n"
   ]
  }
 ],
 "metadata": {
  "kernelspec": {
   "display_name": "mlf-io-boilerplate",
   "language": "python",
   "name": "python3"
  },
  "language_info": {
   "codemirror_mode": {
    "name": "ipython",
    "version": 3
   },
   "file_extension": ".py",
   "mimetype": "text/x-python",
   "name": "python",
   "nbconvert_exporter": "python",
   "pygments_lexer": "ipython3",
   "version": "3.12.1"
  }
 },
 "nbformat": 4,
 "nbformat_minor": 2
}
