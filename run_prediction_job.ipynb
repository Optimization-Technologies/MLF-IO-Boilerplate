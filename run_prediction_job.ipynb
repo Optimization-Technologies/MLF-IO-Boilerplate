{
 "cells": [
  {
   "cell_type": "code",
   "execution_count": 1,
   "metadata": {},
   "outputs": [],
   "source": [
    "import os\n",
    "from api import upload_data_from_json, upload_dummy_data, start_trainer, create_prediction, get_results, delete_data, CreatePredictionResponseSuccess\n",
    "TENANT_ID = os.getenv(\"TENANT_ID\")"
   ]
  },
  {
   "cell_type": "markdown",
   "metadata": {},
   "source": [
    "### Basic flow\n",
    "First, we create a simple dummy dataset. This will have dataset_id \"dummy-dataset-1\". `upload_dummy_data()` both generate the data and uploads it to the s3 bucket."
   ]
  },
  {
   "cell_type": "code",
   "execution_count": 2,
   "metadata": {},
   "outputs": [
    {
     "name": "stdout",
     "output_type": "stream",
     "text": [
      "Getting presigned url...\n",
      "Access token expired. Refreshing...\n",
      "Retrying request...\n",
      "Getting presigned url...\n",
      "Generating dummy data...\n",
      "Uploading data...\n",
      "Polling job status...\n",
      "\tResponse status: inProgress\n",
      "\tResponse status: inProgress\n",
      "\tResponse status: inProgress\n",
      "\tResponse status: inProgress\n",
      "\tResponse status: inProgress\n",
      "\tResponse status: inProgress\n",
      "\tResponse status: inProgress\n",
      "\tResponse status: inProgress\n",
      "\tResponse status: inProgress\n",
      "\tResponse status: inProgress\n",
      "Job complete! Message: The data upload job finished successfully\n",
      "\n",
      "Datasets ['dummy-dataset-1', 'dummy-dataset-2'] were uploaded\n"
     ]
    }
   ],
   "source": [
    "dummy_dataset_ids = upload_dummy_data(TENANT_ID, nbr_datasets=2)\n",
    "print(f\"Datasets {dummy_dataset_ids} were uploaded\")"
   ]
  },
  {
   "cell_type": "markdown",
   "metadata": {},
   "source": [
    "Next step is to train a model on the data."
   ]
  },
  {
   "cell_type": "code",
   "execution_count": 3,
   "metadata": {},
   "outputs": [
    {
     "name": "stdout",
     "output_type": "stream",
     "text": [
      "Starting trainer...\n",
      "Polling job status...\n",
      "\tResponse status: inProgress\n",
      "\tResponse status: inProgress\n",
      "\tResponse status: inProgress\n",
      "\tResponse status: inProgress\n",
      "\tResponse status: inProgress\n",
      "\tResponse status: inProgress\n",
      "\tResponse status: inProgress\n",
      "\tResponse status: inProgress\n",
      "\tResponse status: inProgress\n",
      "Job complete! Message: The training job finished successfully\n",
      "\n"
     ]
    },
    {
     "data": {
      "text/plain": [
       "StartTrainerResponseSuccess(jobId='9e1c6bbf0ea44bc3a83b6e3dd9afe3b4', message='Training job started successfully')"
      ]
     },
     "execution_count": 3,
     "metadata": {},
     "output_type": "execute_result"
    }
   ],
   "source": [
    "start_trainer(TENANT_ID, dummy_dataset_ids)"
   ]
  },
  {
   "cell_type": "markdown",
   "metadata": {},
   "source": [
    "When the training is complete, the prediction can be made."
   ]
  },
  {
   "cell_type": "code",
   "execution_count": 4,
   "metadata": {},
   "outputs": [
    {
     "name": "stdout",
     "output_type": "stream",
     "text": [
      "Creating prediction...\n",
      "Polling job status...\n",
      "\tResponse status: inProgress\n",
      "\tResponse status: inProgress\n",
      "\tResponse status: inProgress\n",
      "\tResponse status: inProgress\n",
      "\tResponse status: inProgress\n",
      "\tResponse status: inProgress\n",
      "\tResponse status: inProgress\n",
      "\tResponse status: inProgress\n",
      "\tResponse status: inProgress\n",
      "Job complete! Message: The prediction job finished successfully\n",
      "\n",
      "5daf6d2c08054bc1b9d91bea1dc50fed\n",
      "Getting results...\n",
      "Results retrieved! Message: Job completed successfully!\n",
      "\n"
     ]
    }
   ],
   "source": [
    "res: CreatePredictionResponseSuccess = create_prediction(TENANT_ID, dummy_dataset_ids)\n",
    "results = get_results(TENANT_ID, job_id=res.jobId).results"
   ]
  },
  {
   "cell_type": "code",
   "execution_count": 5,
   "metadata": {},
   "outputs": [
    {
     "name": "stdout",
     "output_type": "stream",
     "text": [
      "Dataset ID: dummy-dataset-1\n",
      "Replenishment Suggestion: 362.6093581285598\n",
      "Suggested safety stock: 3.0161213306451176\n",
      "Suggested reorder point: 127.15839795492126\n",
      "\n",
      "Dataset ID: dummy-dataset-2\n",
      "Replenishment Suggestion: 453.6683157614024\n",
      "Suggested safety stock: 91.88821805693702\n",
      "Suggested reorder point: 216.74284174195947\n",
      "\n"
     ]
    }
   ],
   "source": [
    "for result in results:\n",
    "    print(f\"Dataset ID: {result.datasetId}\")\n",
    "    print(\"Replenishment Suggestion:\", result.replenishmentSuggestion.quantity)\n",
    "    print(\"Suggested safety stock:\", result.safetyStockSuggestion.quantity)\n",
    "    print(\"Suggested reorder point:\", result.reorderPointSuggestion.quantity)\n",
    "    print() "
   ]
  },
  {
   "cell_type": "markdown",
   "metadata": {},
   "source": [
    "Finally, we delete the data again"
   ]
  },
  {
   "cell_type": "code",
   "execution_count": 6,
   "metadata": {},
   "outputs": [
    {
     "name": "stdout",
     "output_type": "stream",
     "text": [
      "Deleting data...\n",
      "Data deleted! Message: Data was deleted successfully. All data for Dataset ID dummy-dataset-1 was deleted (31 month(s) of data).\n",
      "\n",
      "Deleting data...\n",
      "Data deleted! Message: Data was deleted successfully. All data for Dataset ID dummy-dataset-2 was deleted (34 month(s) of data).\n",
      "\n"
     ]
    }
   ],
   "source": [
    "for dataset_id in dummy_dataset_ids:\n",
    "    delete_data(TENANT_ID, dataset_id=dataset_id)"
   ]
  },
  {
   "cell_type": "markdown",
   "metadata": {},
   "source": [
    "### Upload you own data\n",
    "In order upload data instead of the randomly created data, the function `upload_data()` can be used. This function takes the data path as input.\n",
    "The data file should be a .json file, and an example of a file is placed in \"data/data_example.json\". \n",
    "\n",
    "The `datasets` consists of a `datasetId` and a list of transactions. The `transactions` array has has three required fields: \n",
    "- <b>quantity</b>: The number of items in that transaction.\n",
    "- <b>departureDate</b>: The date the item was shipped out of the warehouse.\n",
    "- <b>transactionId</b>: An unique transactionId.\n",
    "\n",
    "Besides that the `transactions` have optional fields\n",
    "- <b>unitPrice</b>: The price the shop charges for the product.\n",
    "- <b>unitCost</b>: The cost the shop paid their supplier for the product."
   ]
  },
  {
   "cell_type": "code",
   "execution_count": null,
   "metadata": {},
   "outputs": [],
   "source": [
    "example_dataset_ids = upload_data_from_json(TENANT_ID, path=\"data/data_example.json\")\n",
    "print(f\"Datasets {example_dataset_ids} were uploaded\")"
   ]
  },
  {
   "cell_type": "markdown",
   "metadata": {},
   "source": [
    "Now we can run the training and prediction exactly as before."
   ]
  },
  {
   "cell_type": "code",
   "execution_count": null,
   "metadata": {},
   "outputs": [],
   "source": [
    "start_trainer(TENANT_ID, example_dataset_ids)\n",
    "res: CreatePredictionResponseSuccess = create_prediction(TENANT_ID, example_dataset_ids)\n",
    "results = get_results(TENANT_ID, job_id=res.jobId).results\n",
    "for result in results:\n",
    "    print(f\"Dataset ID: {result.datasetId}\")\n",
    "    print(\"Replenishment Suggestion:\", result.replenishmentSuggestion.quantity)\n",
    "    print(\"Suggested safety stock:\", result.safetyStockSuggestion.quantity)\n",
    "    print(\"Suggested reorder point:\", result.reorderPointSuggestion.quantity)\n",
    "    print() "
   ]
  },
  {
   "cell_type": "code",
   "execution_count": null,
   "metadata": {},
   "outputs": [],
   "source": [
    "for dataset_id in example_dataset_ids:\n",
    "    delete_data(TENANT_ID, dataset_id=dataset_id)"
   ]
  }
 ],
 "metadata": {
  "kernelspec": {
   "display_name": "apitest11",
   "language": "python",
   "name": "python3"
  },
  "language_info": {
   "codemirror_mode": {
    "name": "ipython",
    "version": 3
   },
   "file_extension": ".py",
   "mimetype": "text/x-python",
   "name": "python",
   "nbconvert_exporter": "python",
   "pygments_lexer": "ipython3",
   "version": "3.12.1"
  }
 },
 "nbformat": 4,
 "nbformat_minor": 2
}
