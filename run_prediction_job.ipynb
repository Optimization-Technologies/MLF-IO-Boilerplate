{
 "cells": [
  {
   "cell_type": "code",
   "execution_count": null,
   "metadata": {},
   "outputs": [],
   "source": [
    "import os\n",
    "from api import upload_data, upload_dummy_data, start_trainer, create_prediction, get_results, delete_data, CreatePredictionResponseSuccess\n",
    "TENANT_ID = os.getenv(\"TENANT_ID\")"
   ]
  },
  {
   "cell_type": "markdown",
   "metadata": {},
   "source": [
    "### Basic flow\n",
    "First, we create a simple dummy dataset. This will have dataset_id \"dummy-dataset-1\". `upload_dummy_data()` both generate the data and uploads it to the s3 bucket."
   ]
  },
  {
   "cell_type": "code",
   "execution_count": null,
   "metadata": {},
   "outputs": [],
   "source": [
    "dummy_dataset_ids = upload_dummy_data(TENANT_ID, nbr_datasets=2)\n",
    "print(f\"Datasets {dummy_dataset_ids} were uploaded\")"
   ]
  },
  {
   "cell_type": "markdown",
   "metadata": {},
   "source": [
    "Next step is to train a model on the data."
   ]
  },
  {
   "cell_type": "code",
   "execution_count": null,
   "metadata": {},
   "outputs": [],
   "source": [
    "start_trainer(TENANT_ID, dummy_dataset_ids)"
   ]
  },
  {
   "cell_type": "markdown",
   "metadata": {},
   "source": [
    "When the training is complete, the prediction can be made."
   ]
  },
  {
   "cell_type": "code",
   "execution_count": null,
   "metadata": {},
   "outputs": [],
   "source": [
    "res: CreatePredictionResponseSuccess = create_prediction(TENANT_ID, dummy_dataset_ids)\n",
    "results = get_results(TENANT_ID, job_id=res.jobId).results"
   ]
  },
  {
   "cell_type": "code",
   "execution_count": null,
   "metadata": {},
   "outputs": [],
   "source": [
    "for result in results:\n",
    "    print(f\"Dataset ID: {result.datasetId}\")\n",
    "    print(\"Replenishment Suggestion:\", result.replenishmentSuggestion.quantity)\n",
    "    print(\"Suggested safety stock:\", result.safetyStockSuggestion.quantity)\n",
    "    print(\"Suggested reorder point:\", result.reorderPointSuggestion.quantity)\n",
    "    print() "
   ]
  },
  {
   "cell_type": "markdown",
   "metadata": {},
   "source": [
    "Finally, we delete the data again"
   ]
  },
  {
   "cell_type": "code",
   "execution_count": null,
   "metadata": {},
   "outputs": [],
   "source": [
    "for dataset_id in dummy_dataset_ids:\n",
    "    delete_data(TENANT_ID, dataset_id=dataset_id)"
   ]
  },
  {
   "cell_type": "markdown",
   "metadata": {},
   "source": [
    "### Upload you own data\n",
    "In order upload data instead of the randomly created data, the function `upload_data()` can be used. This function takes the data path as input.\n",
    "The data file should be a .json file, and an example of a file is placed in \"data/data_example.json\". \n",
    "\n",
    "The `datasets` consists of a `datasetId` and a list of transactions. The `transactions` array has has three required fields: \n",
    "- <b>quantity</b>: The number of items in that transaction.\n",
    "- <b>departureDate</b>: The date the item was shipped out of the warehouse.\n",
    "- <b>transactionId</b>: An unique transactionId.\n",
    "\n",
    "Besides that the `transactions` have optional fields\n",
    "- <b>unitPrice</b>: The price the shop charges for the product.\n",
    "- <b>unitCost</b>: The cost the shop paid their supplier for the product."
   ]
  },
  {
   "cell_type": "code",
   "execution_count": null,
   "metadata": {},
   "outputs": [],
   "source": [
    "example_dataset_ids = upload_data(TENANT_ID, path=\"data/data_example.json\")\n",
    "print(f\"Datasets {example_dataset_ids} were uploaded\")"
   ]
  },
  {
   "cell_type": "markdown",
   "metadata": {},
   "source": [
    "Now we can run the training and prediction exactly as before."
   ]
  },
  {
   "cell_type": "code",
   "execution_count": null,
   "metadata": {},
   "outputs": [],
   "source": [
    "start_trainer(TENANT_ID, example_dataset_ids)\n",
    "res: CreatePredictionResponseSuccess = create_prediction(TENANT_ID, example_dataset_ids)\n",
    "results = get_results(TENANT_ID, job_id=res.jobId).results\n",
    "for result in results:\n",
    "    print(f\"Dataset ID: {result.datasetId}\")\n",
    "    print(\"Replenishment Suggestion:\", result.replenishmentSuggestion.quantity)\n",
    "    print(\"Suggested safety stock:\", result.safetyStockSuggestion.quantity)\n",
    "    print(\"Suggested reorder point:\", result.reorderPointSuggestion.quantity)\n",
    "    print() "
   ]
  },
  {
   "cell_type": "code",
   "execution_count": null,
   "metadata": {},
   "outputs": [],
   "source": [
    "for dataset_id in example_dataset_ids:\n",
    "    delete_data(TENANT_ID, dataset_id=dataset_id)"
   ]
  }
 ],
 "metadata": {
  "kernelspec": {
   "display_name": "apitest11",
   "language": "python",
   "name": "python3"
  },
  "language_info": {
   "codemirror_mode": {
    "name": "ipython",
    "version": 3
   },
   "file_extension": ".py",
   "mimetype": "text/x-python",
   "name": "python",
   "nbconvert_exporter": "python",
   "pygments_lexer": "ipython3",
   "version": "3.11.7"
  }
 },
 "nbformat": 4,
 "nbformat_minor": 2
}
